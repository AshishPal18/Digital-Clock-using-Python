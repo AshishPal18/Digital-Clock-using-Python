{
 "cells": [
  {
   "cell_type": "markdown",
   "id": "5954b645",
   "metadata": {},
   "source": [
    "#  Clock\n",
    "\n"
   ]
  },
  {
   "cell_type": "code",
   "execution_count": 7,
   "id": "62d2d291",
   "metadata": {},
   "outputs": [],
   "source": []
  },
  {
   "cell_type": "code",
   "execution_count": null,
   "id": "a10e6477",
   "metadata": {},
   "outputs": [],
   "source": [
    "from tkinter import *\n",
    "from tkinter.ttk import *\n",
    "from time import strftime\n",
    "root = Tk()\n",
    "root.title(\"Clock\")\n",
    "def time():\n",
    "    string = strftime('%H : %M : %S %p')\n",
    "    label.config(text=string)\n",
    "    label.after(1000,time)\n",
    "label = Label(root ,font=(\"DS-DIGIT\",80),background = \"black\", foreground = \"cyan\")\n",
    "label.pack(anchor=\"center\")\n",
    "time()\n",
    "mainloop()"
   ]
  },
  {
   "cell_type": "code",
   "execution_count": null,
   "id": "8c69e835",
   "metadata": {},
   "outputs": [],
   "source": []
  },
  {
   "cell_type": "code",
   "execution_count": null,
   "id": "7ecf2fea",
   "metadata": {},
   "outputs": [],
   "source": []
  }
 ],
 "metadata": {
  "kernelspec": {
   "display_name": "Python 3",
   "language": "python",
   "name": "python3"
  },
  "language_info": {
   "codemirror_mode": {
    "name": "ipython",
    "version": 3
   },
   "file_extension": ".py",
   "mimetype": "text/x-python",
   "name": "python",
   "nbconvert_exporter": "python",
   "pygments_lexer": "ipython3",
   "version": "3.8.8"
  }
 },
 "nbformat": 4,
 "nbformat_minor": 5
}
